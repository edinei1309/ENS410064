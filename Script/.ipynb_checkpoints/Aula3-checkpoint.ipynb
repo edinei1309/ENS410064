{
 "cells": [
  {
   "cell_type": "markdown",
   "id": "3b3be4a9-2f75-4333-a90e-b93665e3fcef",
   "metadata": {},
   "source": [
    "## Aula 03 python"
   ]
  },
  {
   "cell_type": "markdown",
   "id": "ea822a41-60d9-467c-bed3-e1e477d34e64",
   "metadata": {},
   "source": [
    "Nesta aula veremos:\n",
    "1. Numpay array e pandas dataframe\n",
    "2. Open and export files\n",
    "3. Conditional statements\n",
    "4. Loops em Python\n",
    "5. Functions - def"
   ]
  },
  {
   "cell_type": "markdown",
   "id": "b86650fe-ee3f-4660-8056-30464c8aef04",
   "metadata": {},
   "source": [
    "### 1.1 Numpy arrays"
   ]
  },
  {
   "cell_type": "code",
   "execution_count": 2,
   "id": "326d4659-122f-4947-b554-e1a552097b1f",
   "metadata": {},
   "outputs": [],
   "source": [
    "import numpy as np"
   ]
  },
  {
   "cell_type": "code",
   "execution_count": 3,
   "id": "0cf13d69-5196-403a-90c4-6ba6acd93438",
   "metadata": {},
   "outputs": [
    {
     "name": "stdout",
     "output_type": "stream",
     "text": [
      "(1000, 2)\n",
      "2000\n",
      "[[0.46048495 0.85517602]\n",
      " [0.83511685 0.7245017 ]\n",
      " [0.49691636 0.20256417]\n",
      " [0.13803036 0.32987587]\n",
      " [0.83795541 0.83849081]\n",
      " [0.64185631 0.1942888 ]\n",
      " [0.76313063 0.74582447]\n",
      " [0.08716252 0.16105886]\n",
      " [0.60792627 0.21672457]]\n"
     ]
    }
   ],
   "source": [
    "## criando vetor de dados aleatório\n",
    "data = np.random.rand(1000,2)\n",
    "\n",
    "#verificando tamanho do vetor\n",
    "print(data.shape)\n",
    "print(np.size(data)) #numero de dados\n",
    "\n",
    "#amostra dos dados\n",
    "print(data[1:10])"
   ]
  },
  {
   "cell_type": "code",
   "execution_count": 4,
   "id": "df56d45b-f6f6-4228-8e2e-c03e6429cefc",
   "metadata": {},
   "outputs": [
    {
     "name": "stdout",
     "output_type": "stream",
     "text": [
      "[[785.78891923  81.55547232]\n",
      " [465.88009573 856.62425838]\n",
      " [836.76568128 727.25667937]\n",
      " [501.947194   210.53852745]\n",
      " [146.65005445 336.57710856]\n",
      " [839.5758602  840.10590615]\n",
      " [645.43774552 202.34591355]\n",
      " [765.49932752 748.3662252 ]\n",
      " [ 96.29089236 169.44826829]\n",
      " [611.84700315 224.5573241 ]]\n"
     ]
    }
   ],
   "source": [
    "# usando Monte-Carlo\n",
    "dataMax=1000\n",
    "dataMin=10\n",
    "data=(dataMax-dataMin)*data+dataMin\n",
    "\n",
    "#amostra dos dados\n",
    "print(data[0:10])"
   ]
  },
  {
   "cell_type": "code",
   "execution_count": 13,
   "id": "39e95fdc-7153-428c-a93b-574559d93fc2",
   "metadata": {},
   "outputs": [
    {
     "name": "stdout",
     "output_type": "stream",
     "text": [
      "['2000-01-01T01' '2000-01-01T02' '2000-01-01T03' '2000-01-01T04'\n",
      " '2000-01-01T05' '2000-01-01T06' '2000-01-01T07' '2000-01-01T08'\n",
      " '2000-01-01T09']\n",
      "(744,)\n"
     ]
    }
   ],
   "source": [
    "#Criando vetor temporal \n",
    "\n",
    "dtime = np.arange(np.datetime64(\"2000-01-01\"), np.datetime64(\"2000-02-01\"), np.timedelta64(1,\"h\"))\n",
    "\n",
    "print(dtime[1:10])\n",
    "print(dtime.shape)"
   ]
  },
  {
   "cell_type": "markdown",
   "id": "07bd21d8-e3e7-4b82-addd-d1760e9f2f09",
   "metadata": {},
   "source": [
    "## PANDAS\n"
   ]
  },
  {
   "cell_type": "code",
   "execution_count": 12,
   "id": "3d97da91-552c-4a74-8381-5e57d42ad385",
   "metadata": {},
   "outputs": [
    {
     "name": "stdout",
     "output_type": "stream",
     "text": [
      "Empty DataFrame\n",
      "Columns: []\n",
      "Index: []\n"
     ]
    }
   ],
   "source": [
    "import pandas as pd\n",
    "\n",
    "\n",
    "\n",
    "df=pd.DataFrame()\n",
    "print(df)"
   ]
  }
 ],
 "metadata": {
  "kernelspec": {
   "display_name": "Python 3 (ipykernel)",
   "language": "python",
   "name": "python3"
  },
  "language_info": {
   "codemirror_mode": {
    "name": "ipython",
    "version": 3
   },
   "file_extension": ".py",
   "mimetype": "text/x-python",
   "name": "python",
   "nbconvert_exporter": "python",
   "pygments_lexer": "ipython3",
   "version": "3.11.5"
  }
 },
 "nbformat": 4,
 "nbformat_minor": 5
}
