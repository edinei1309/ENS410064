








import numpy as np


## criando vetor de dados aleatório
data = np.random.rand(1000,2)

#verificando tamanho do vetor
print(data.shape)
print(np.size(data)) #numero de dados

#amostra dos dados
print(data[1:10])


# usando Monte-Carlo
dataMax=1000
dataMin=10
data=(dataMax-dataMin)*data+dataMin

#amostra dos dados
print(data[0:10])


#Criando vetor temporal 

dtime = np.arange(np.datetime64("2000-01-01"), np.datetime64("2000-02-01"), np.timedelta64(1,"h"))

print(dtime[1:10])
print(dtime.shape)





import pandas as pd



df=pd.DataFrame()
print(df)
