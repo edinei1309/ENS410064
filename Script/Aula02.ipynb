{
 "cells": [
  {
   "cell_type": "markdown",
   "id": "6bf53e10-a825-4c37-8a5e-6dd576722dfa",
   "metadata": {},
   "source": [
    "# Aula 02 - Python"
   ]
  },
  {
   "cell_type": "markdown",
   "id": "26c547d9-58bb-481f-b25e-70112a2459db",
   "metadata": {},
   "source": [
    "## Dados numéricos"
   ]
  },
  {
   "cell_type": "code",
   "execution_count": 10,
   "id": "4553b5e3-49d2-44b6-a803-215257e20c5e",
   "metadata": {},
   "outputs": [
    {
     "name": "stdout",
     "output_type": "stream",
     "text": [
      "valor de a = 1\n"
     ]
    },
    {
     "data": {
      "text/plain": [
       "int"
      ]
     },
     "execution_count": 10,
     "metadata": {},
     "output_type": "execute_result"
    }
   ],
   "source": [
    "# variável inteira\n",
    "a=1\n",
    "print(\"valor de a = \"+str(a))\n",
    "type(a)"
   ]
  },
  {
   "cell_type": "code",
   "execution_count": 11,
   "id": "c07ab66b-d8aa-453b-960f-ee5221aa8700",
   "metadata": {},
   "outputs": [
    {
     "name": "stdout",
     "output_type": "stream",
     "text": [
      "valor de b = 1.0\n"
     ]
    },
    {
     "data": {
      "text/plain": [
       "float"
      ]
     },
     "execution_count": 11,
     "metadata": {},
     "output_type": "execute_result"
    }
   ],
   "source": [
    "#variavel dupla precisão\n",
    "b=1.0\n",
    "print(\"valor de b = \"+str(b))\n",
    "type(b)"
   ]
  },
  {
   "cell_type": "code",
   "execution_count": 12,
   "id": "0095faee-ebe4-4016-bd59-07cb83c8db30",
   "metadata": {},
   "outputs": [
    {
     "name": "stdout",
     "output_type": "stream",
     "text": [
      "1\n"
     ]
    },
    {
     "data": {
      "text/plain": [
       "int"
      ]
     },
     "execution_count": 12,
     "metadata": {},
     "output_type": "execute_result"
    }
   ],
   "source": [
    "# converter float para int\n",
    "c=int(b)\n",
    "print(c)\n",
    "type(c)"
   ]
  },
  {
   "cell_type": "code",
   "execution_count": 14,
   "id": "60dcb85b-e4e7-4853-88a0-60527773f338",
   "metadata": {},
   "outputs": [
    {
     "name": "stdout",
     "output_type": "stream",
     "text": [
      "nan\n"
     ]
    },
    {
     "data": {
      "text/plain": [
       "float"
      ]
     },
     "execution_count": 14,
     "metadata": {},
     "output_type": "execute_result"
    }
   ],
   "source": [
    "#Declarando valor nan\n",
    "import numpy as np\n",
    "d=np.nan\n",
    "print(d)\n",
    "type(d)"
   ]
  },
  {
   "cell_type": "code",
   "execution_count": 18,
   "id": "584f181f-7e8c-49aa-9a43-bf0b2d492a2b",
   "metadata": {},
   "outputs": [
    {
     "name": "stdout",
     "output_type": "stream",
     "text": [
      "nan\n",
      "1.0\n"
     ]
    }
   ],
   "source": [
    "# multiplicando operação com NaN\n",
    "e=d*1\n",
    "print(e)\n",
    "e=np.nansum([d,1])\n",
    "print(e)\n"
   ]
  },
  {
   "cell_type": "markdown",
   "id": "203889be-c3af-4b3f-ae2b-e1e5dfaae17a",
   "metadata": {},
   "source": [
    "## Dados texto"
   ]
  },
  {
   "cell_type": "code",
   "execution_count": 22,
   "id": "29821530-818b-4449-85b6-2eae1ee6f872",
   "metadata": {},
   "outputs": [
    {
     "name": "stdout",
     "output_type": "stream",
     "text": [
      "Fabio\n",
      "Gabriel\n",
      "FabioGabriel\n",
      "Fabio Gabriel\n"
     ]
    }
   ],
   "source": [
    "# Declaração de variável texto\n",
    "f='Fabio'\n",
    "g=\"Gabriel\"\n",
    "print(f)\n",
    "print(g)\n",
    "print(f+g) #concatenação\n",
    "print (f+' '+g)"
   ]
  },
  {
   "cell_type": "markdown",
   "id": "6af6083a-6e05-4ffb-b21f-59495bdaabd5",
   "metadata": {},
   "source": [
    "## Dados tipo bool - lógica"
   ]
  },
  {
   "cell_type": "code",
   "execution_count": 23,
   "id": "df0f5926-111e-4d01-b1b2-60c25b6d9968",
   "metadata": {},
   "outputs": [
    {
     "data": {
      "text/plain": [
       "True"
      ]
     },
     "execution_count": 23,
     "metadata": {},
     "output_type": "execute_result"
    }
   ],
   "source": [
    "a==1"
   ]
  },
  {
   "cell_type": "code",
   "execution_count": 24,
   "id": "d8ddc268-52c5-4be6-89fd-bbc8af2164b9",
   "metadata": {},
   "outputs": [
    {
     "name": "stdout",
     "output_type": "stream",
     "text": [
      "True\n"
     ]
    },
    {
     "data": {
      "text/plain": [
       "bool"
      ]
     },
     "execution_count": 24,
     "metadata": {},
     "output_type": "execute_result"
    }
   ],
   "source": [
    "h=(a==1)\n",
    "print(h)\n",
    "type(h)"
   ]
  },
  {
   "cell_type": "code",
   "execution_count": 25,
   "id": "4eba648e-943a-4e76-a36c-ad4fb187c2e7",
   "metadata": {},
   "outputs": [
    {
     "name": "stdout",
     "output_type": "stream",
     "text": [
      "False\n"
     ]
    },
    {
     "data": {
      "text/plain": [
       "bool"
      ]
     },
     "execution_count": 25,
     "metadata": {},
     "output_type": "execute_result"
    }
   ],
   "source": [
    "h=(a==2)\n",
    "print(h)\n",
    "type(h)"
   ]
  },
  {
   "cell_type": "code",
   "execution_count": 28,
   "id": "227049af-0190-43bb-b30e-370a0ed0040c",
   "metadata": {},
   "outputs": [
    {
     "data": {
      "text/plain": [
       "bool"
      ]
     },
     "execution_count": 28,
     "metadata": {},
     "output_type": "execute_result"
    }
   ],
   "source": [
    "i=True\n",
    "type(i)"
   ]
  },
  {
   "cell_type": "code",
   "execution_count": 29,
   "id": "a13502fb-ada6-41df-b61a-1bb8df5a60f5",
   "metadata": {},
   "outputs": [
    {
     "data": {
      "text/plain": [
       "str"
      ]
     },
     "execution_count": 29,
     "metadata": {},
     "output_type": "execute_result"
    }
   ],
   "source": [
    "ii='True'\n",
    "type(ii)"
   ]
  },
  {
   "cell_type": "markdown",
   "id": "023cc6e2-3abf-437a-9d52-03602cd335bb",
   "metadata": {},
   "source": [
    "## Operação de comparação"
   ]
  },
  {
   "cell_type": "code",
   "execution_count": 31,
   "id": "dde97790-63bd-4208-82d9-7a412c51c918",
   "metadata": {},
   "outputs": [
    {
     "data": {
      "text/plain": [
       "True"
      ]
     },
     "execution_count": 31,
     "metadata": {},
     "output_type": "execute_result"
    }
   ],
   "source": [
    "#Operação igual\n",
    "a==b"
   ]
  },
  {
   "cell_type": "code",
   "execution_count": 32,
   "id": "66796c96-62a9-41a9-a1bf-8ff630ad3163",
   "metadata": {},
   "outputs": [
    {
     "data": {
      "text/plain": [
       "False"
      ]
     },
     "execution_count": 32,
     "metadata": {},
     "output_type": "execute_result"
    }
   ],
   "source": [
    "#Operação ><\n",
    "a>b"
   ]
  },
  {
   "cell_type": "code",
   "execution_count": 33,
   "id": "ada020f9-bba8-4f7a-9df3-91ffa6cc6729",
   "metadata": {},
   "outputs": [
    {
     "data": {
      "text/plain": [
       "False"
      ]
     },
     "execution_count": 33,
     "metadata": {},
     "output_type": "execute_result"
    }
   ],
   "source": [
    "#Operação !=\n",
    "a!=b"
   ]
  },
  {
   "cell_type": "code",
   "execution_count": 34,
   "id": "730b2cfd-7039-41a9-b4f7-446af1329e22",
   "metadata": {},
   "outputs": [
    {
     "data": {
      "text/plain": [
       "True"
      ]
     },
     "execution_count": 34,
     "metadata": {},
     "output_type": "execute_result"
    }
   ],
   "source": [
    "#Operação >= ou <=\n",
    "a<=c"
   ]
  },
  {
   "cell_type": "markdown",
   "id": "feae3b7a-68b8-49b4-a51a-3a7fe2f80de5",
   "metadata": {},
   "source": [
    "## Operações matemáticas"
   ]
  },
  {
   "cell_type": "code",
   "execution_count": 35,
   "id": "8404e112-446a-4deb-b7da-3ace81f1ee60",
   "metadata": {},
   "outputs": [
    {
     "data": {
      "text/plain": [
       "2.0"
      ]
     },
     "execution_count": 35,
     "metadata": {},
     "output_type": "execute_result"
    }
   ],
   "source": [
    "# Soma\n",
    "a+b"
   ]
  },
  {
   "cell_type": "code",
   "execution_count": 37,
   "id": "fbbf61e0-fe99-4f35-b681-9d9ebac40787",
   "metadata": {},
   "outputs": [
    {
     "name": "stdout",
     "output_type": "stream",
     "text": [
      "1.0\n"
     ]
    }
   ],
   "source": [
    "# multiplicação\n",
    "j = a*b\n",
    "print(j)"
   ]
  },
  {
   "cell_type": "code",
   "execution_count": 38,
   "id": "197a2ce5-5f27-468a-b8fb-dadcff171cf3",
   "metadata": {},
   "outputs": [
    {
     "data": {
      "text/plain": [
       "1.0"
      ]
     },
     "execution_count": 38,
     "metadata": {},
     "output_type": "execute_result"
    }
   ],
   "source": [
    "# Divisão\n",
    "a/b"
   ]
  },
  {
   "cell_type": "code",
   "execution_count": 40,
   "id": "282c53f2-e478-4c40-834e-8a81d0788233",
   "metadata": {},
   "outputs": [
    {
     "data": {
      "text/plain": [
       "25"
      ]
     },
     "execution_count": 40,
     "metadata": {},
     "output_type": "execute_result"
    }
   ],
   "source": [
    "# Potencia\n",
    "5**2"
   ]
  },
  {
   "cell_type": "code",
   "execution_count": 41,
   "id": "1ba19297-c799-46e8-90a0-bcadab63728e",
   "metadata": {},
   "outputs": [
    {
     "data": {
      "text/plain": [
       "22026.465794806718"
      ]
     },
     "execution_count": 41,
     "metadata": {},
     "output_type": "execute_result"
    }
   ],
   "source": [
    "#operações matematicas com a biblioteva math\n",
    "import math\n",
    "math.exp(10)"
   ]
  },
  {
   "cell_type": "code",
   "execution_count": 42,
   "id": "79733b68-539f-4a88-861d-28a733aff2e1",
   "metadata": {},
   "outputs": [
    {
     "data": {
      "text/plain": [
       "2.718281828459045"
      ]
     },
     "execution_count": 42,
     "metadata": {},
     "output_type": "execute_result"
    }
   ],
   "source": [
    "math.exp(a)"
   ]
  },
  {
   "cell_type": "code",
   "execution_count": 43,
   "id": "59d6b851-8bfb-4611-b837-16d15035588d",
   "metadata": {},
   "outputs": [
    {
     "data": {
      "text/plain": [
       "1.0"
      ]
     },
     "execution_count": 43,
     "metadata": {},
     "output_type": "execute_result"
    }
   ],
   "source": [
    "math.exp(0)\n"
   ]
  },
  {
   "cell_type": "markdown",
   "id": "f75cb088-d89e-4ccc-b8bc-d2d95f7caa93",
   "metadata": {},
   "source": [
    "## Listas"
   ]
  },
  {
   "cell_type": "code",
   "execution_count": 44,
   "id": "db93ef10-595d-44b2-b166-e84d9b31926f",
   "metadata": {},
   "outputs": [
    {
     "name": "stdout",
     "output_type": "stream",
     "text": [
      "[1, 2, 3]\n"
     ]
    }
   ],
   "source": [
    "myFirstList=[1,2,3]\n",
    "print(myFirstList)"
   ]
  },
  {
   "cell_type": "code",
   "execution_count": 48,
   "id": "aa841cdf-82a4-431b-be58-ca3d4ee4c387",
   "metadata": {},
   "outputs": [
    {
     "name": "stdout",
     "output_type": "stream",
     "text": [
      "1\n"
     ]
    }
   ],
   "source": [
    "# Assessando pelo index\n",
    "print(myFirstList[0])"
   ]
  },
  {
   "cell_type": "code",
   "execution_count": 49,
   "id": "bf5f07f9-8f90-4f0d-86e8-557d1e463b3b",
   "metadata": {},
   "outputs": [
    {
     "data": {
      "text/plain": [
       "False"
      ]
     },
     "execution_count": 49,
     "metadata": {},
     "output_type": "execute_result"
    }
   ],
   "source": [
    "myFirstList==a"
   ]
  },
  {
   "cell_type": "code",
   "execution_count": 51,
   "id": "c4cf2077-a996-42ce-b904-aec753d2b42f",
   "metadata": {},
   "outputs": [
    {
     "name": "stdout",
     "output_type": "stream",
     "text": [
      "[1, 1, 'c']\n"
     ]
    }
   ],
   "source": [
    "mySecList=[1,a,'c']\n",
    "print(mySecList)"
   ]
  },
  {
   "cell_type": "code",
   "execution_count": 52,
   "id": "ca0c1f7f-8527-480d-918a-ba0e61cb0996",
   "metadata": {},
   "outputs": [
    {
     "data": {
      "text/plain": [
       "list"
      ]
     },
     "execution_count": 52,
     "metadata": {},
     "output_type": "execute_result"
    }
   ],
   "source": [
    "type(mySecList)"
   ]
  },
  {
   "cell_type": "markdown",
   "id": "aba73475-2840-4622-8341-1f06f3256d6d",
   "metadata": {},
   "source": [
    "## Caminhos path"
   ]
  },
  {
   "cell_type": "code",
   "execution_count": 54,
   "id": "9848efaf-4882-4b11-971b-b502309b1066",
   "metadata": {},
   "outputs": [
    {
     "name": "stdout",
     "output_type": "stream",
     "text": [
      "C:\\Users\\edinei.acm\\ENS410064_OK\\ENS410064\n"
     ]
    }
   ],
   "source": [
    "path=r\"C:\\Users\\edinei.acm\\ENS410064_OK\\ENS410064\"\n",
    "print(path)"
   ]
  },
  {
   "cell_type": "code",
   "execution_count": 56,
   "id": "90094f9d-c308-4679-b71e-01be31a12496",
   "metadata": {},
   "outputs": [
    {
     "name": "stdout",
     "output_type": "stream",
     "text": [
      "C:/Users/edinei.acm/ENS410064_OK/ENS410064\n"
     ]
    }
   ],
   "source": [
    "path=\"C:/Users/edinei.acm/ENS410064_OK/ENS410064\"\n",
    "print(path)"
   ]
  },
  {
   "cell_type": "code",
   "execution_count": 65,
   "id": "cc992602-647a-478e-91ea-6fdde8336411",
   "metadata": {},
   "outputs": [
    {
     "data": {
      "text/plain": [
       "['.git', '.gitignore', 'Dados', 'pyEnv', 'README.md', 'Script']"
      ]
     },
     "execution_count": 65,
     "metadata": {},
     "output_type": "execute_result"
    }
   ],
   "source": [
    "import os #biblioteca para navegar\n",
    "#listar arquivos na pasta\n",
    "os.listdir(path)"
   ]
  },
  {
   "cell_type": "code",
   "execution_count": 66,
   "id": "6dc6fcf4-921e-4fa3-99d8-b2e5e9fb0d73",
   "metadata": {},
   "outputs": [
    {
     "data": {
      "text/plain": [
       "'.git'"
      ]
     },
     "execution_count": 66,
     "metadata": {},
     "output_type": "execute_result"
    }
   ],
   "source": [
    "#selecionar primeiro arquivo listado\n",
    "os.listdir(path)[0]"
   ]
  },
  {
   "cell_type": "code",
   "execution_count": 67,
   "id": "e37e24a9-754e-4bca-8ac7-4485f25af3f6",
   "metadata": {},
   "outputs": [
    {
     "data": {
      "text/plain": [
       "'C:/Users/edinei.acm/ENS410064_OK/ENS410064/.git'"
      ]
     },
     "execution_count": 67,
     "metadata": {},
     "output_type": "execute_result"
    }
   ],
   "source": [
    "#concatenando caminhos\n",
    "path+'/'+os.listdir(path)[0]"
   ]
  },
  {
   "cell_type": "code",
   "execution_count": 61,
   "id": "e0c68cbb-8eb0-44ba-a809-a07871ccea71",
   "metadata": {},
   "outputs": [
    {
     "data": {
      "text/plain": [
       "['config',\n",
       " 'description',\n",
       " 'FETCH_HEAD',\n",
       " 'HEAD',\n",
       " 'hooks',\n",
       " 'index',\n",
       " 'info',\n",
       " 'logs',\n",
       " 'objects',\n",
       " 'packed-refs',\n",
       " 'refs']"
      ]
     },
     "execution_count": 61,
     "metadata": {},
     "output_type": "execute_result"
    }
   ],
   "source": [
    "os.listdir(path+'/'+os.listdir(path)[0])"
   ]
  },
  {
   "cell_type": "code",
   "execution_count": 68,
   "id": "1360b31f-6100-4017-881c-5d525f22de8e",
   "metadata": {},
   "outputs": [
    {
     "data": {
      "text/plain": [
       "'C:\\\\Users\\\\edinei.acm\\\\ENS410064_OK'"
      ]
     },
     "execution_count": 68,
     "metadata": {},
     "output_type": "execute_result"
    }
   ],
   "source": [
    "#diretório que estou trabalhando\n",
    "os.getcwd()"
   ]
  },
  {
   "cell_type": "code",
   "execution_count": 69,
   "id": "c4aa34c5-a72e-42c3-a5cc-5180fdb545ee",
   "metadata": {},
   "outputs": [],
   "source": [
    "#mudar de diretório\n",
    "os.chdir('C:\\\\Users\\\\edinei.acm\\\\ENS410064_OK\\\\')"
   ]
  },
  {
   "cell_type": "code",
   "execution_count": 64,
   "id": "85135386-02fd-490f-ae88-fefa460e3ea6",
   "metadata": {},
   "outputs": [
    {
     "data": {
      "text/plain": [
       "'C:\\\\Users\\\\edinei.acm\\\\ENS410064_OK'"
      ]
     },
     "execution_count": 64,
     "metadata": {},
     "output_type": "execute_result"
    }
   ],
   "source": [
    "os.getcwd()"
   ]
  },
  {
   "cell_type": "code",
   "execution_count": 76,
   "id": "84a1bea6-8e63-4e2a-a82a-2ed96f27613a",
   "metadata": {},
   "outputs": [
    {
     "name": "stdout",
     "output_type": "stream",
     "text": [
      "Diretório já existe\n"
     ]
    }
   ],
   "source": [
    "#criando diretório\n",
    "newPath=os.getcwd()+'/test'\n",
    "if os.path.isdir(newPath):\n",
    "    print('Diretório já existe')\n",
    "else:\n",
    "    print('Criando diretório '+newPath)\n",
    "    os.mkdir(newPath)"
   ]
  },
  {
   "cell_type": "code",
   "execution_count": 82,
   "id": "3ad07dea-efe9-4f81-b7ff-92d5e6d15dd8",
   "metadata": {},
   "outputs": [
    {
     "name": "stdout",
     "output_type": "stream",
     "text": [
      "Diretório já existe\n"
     ]
    }
   ],
   "source": [
    "#criando diretório\n",
    "newPath=os.getcwd()+'/test'\n",
    "if os.path.isdir(newPath):\n",
    "    print('Diretório já existe')\n",
    "    #Criando um arquivo de texto\n",
    "    with open(newPath+'/copy.text','w') as file:\n",
    "       file.write('Your text goes here')\n",
    "else:\n",
    "    print('Criando diretório '+newPath)\n",
    "    os.mkdir(newPath)"
   ]
  },
  {
   "cell_type": "markdown",
   "id": "e6036f8e-989d-4361-941b-7e88c37a2487",
   "metadata": {},
   "source": [
    "## Numpy arrays e pandas DataFrames"
   ]
  },
  {
   "cell_type": "code",
   "execution_count": 85,
   "id": "e659d33b-7c2d-4c3c-b97c-cac9b53566f5",
   "metadata": {},
   "outputs": [
    {
     "data": {
      "text/plain": [
       "numpy.ndarray"
      ]
     },
     "execution_count": 85,
     "metadata": {},
     "output_type": "execute_result"
    }
   ],
   "source": [
    "import numpy as np\n",
    "\n",
    "#criando uma variável numpy\n",
    "n=np.array(0)\n",
    "type(n)"
   ]
  },
  {
   "cell_type": "code",
   "execution_count": 86,
   "id": "3114c0f6-2788-400f-94b2-2ea10980bcb1",
   "metadata": {},
   "outputs": [
    {
     "name": "stdout",
     "output_type": "stream",
     "text": [
      "[ 1  2  3 10 20 55]\n"
     ]
    }
   ],
   "source": [
    "#criando uma variável numpy a partir de uma lista\n",
    "myThirdList=[1,2,3,10,20,55]\n",
    "n=np.array(myThirdList)\n",
    "print(n)"
   ]
  },
  {
   "cell_type": "code",
   "execution_count": 91,
   "id": "8947300f-b0bd-4a59-855f-7b54ad9f4a31",
   "metadata": {},
   "outputs": [
    {
     "name": "stdout",
     "output_type": "stream",
     "text": [
      "[[0.08819416 0.33921961 0.03760816 0.9433064  0.33244945 0.17590854\n",
      "  0.67548183 0.66690392 0.53508004 0.75393089]\n",
      " [0.91124928 0.17432718 0.9989521  0.0621848  0.45013448 0.66097209\n",
      "  0.00521927 0.18461894 0.09473317 0.99129229]\n",
      " [0.53885177 0.96573801 0.97047226 0.12472952 0.1251003  0.11652108\n",
      "  0.56425193 0.00807218 0.35782531 0.09620209]\n",
      " [0.28089935 0.70515165 0.40033604 0.65518354 0.82837861 0.68400506\n",
      "  0.23253442 0.28234174 0.33221271 0.55765923]\n",
      " [0.30241254 0.18251296 0.03917974 0.9726239  0.32749122 0.87448401\n",
      "  0.24084997 0.75725617 0.38778146 0.35418046]\n",
      " [0.68730032 0.92061177 0.16483116 0.1561661  0.92913761 0.06816785\n",
      "  0.32510265 0.1521196  0.50819904 0.29705522]\n",
      " [0.75029319 0.26656857 0.85093136 0.64563536 0.70040242 0.39899709\n",
      "  0.18248278 0.79066425 0.97770257 0.55917949]\n",
      " [0.38726521 0.88755773 0.69259964 0.6237476  0.35451895 0.3856988\n",
      "  0.41477511 0.59591711 0.0841134  0.76985262]\n",
      " [0.35922912 0.37094842 0.86328644 0.25355944 0.13674726 0.83632001\n",
      "  0.33806504 0.97505982 0.34510635 0.02910408]\n",
      " [0.20105635 0.77666666 0.51287432 0.67041337 0.84125736 0.05125413\n",
      "  0.57912694 0.4661214  0.74793112 0.35450866]]\n",
      "Ordem da matriz é (10, 10)\n"
     ]
    }
   ],
   "source": [
    "#criando matriz aleatória\n",
    "n=np.random.rand(10,10)\n",
    "print(n)\n",
    "#dimensão da matriz\n",
    "print('Ordem da matriz é '+str(n.shape))"
   ]
  },
  {
   "cell_type": "code",
   "execution_count": 92,
   "id": "d1df815f-3ca2-4209-8917-c2f4a0cd9065",
   "metadata": {},
   "outputs": [
    {
     "data": {
      "text/plain": [
       "0.08819415555338628"
      ]
     },
     "execution_count": 92,
     "metadata": {},
     "output_type": "execute_result"
    }
   ],
   "source": [
    "#acessando valores da matriz\n",
    "n[0,0]"
   ]
  },
  {
   "cell_type": "code",
   "execution_count": 93,
   "id": "1bd27532-c77d-4075-80ea-c995123e363c",
   "metadata": {},
   "outputs": [
    {
     "data": {
      "text/plain": [
       "array([0.33921961, 0.17432718, 0.96573801, 0.70515165, 0.18251296,\n",
       "       0.92061177, 0.26656857, 0.88755773, 0.37094842, 0.77666666])"
      ]
     },
     "execution_count": 93,
     "metadata": {},
     "output_type": "execute_result"
    }
   ],
   "source": [
    "n[:,1]"
   ]
  },
  {
   "cell_type": "code",
   "execution_count": 95,
   "id": "24c7c280-54f4-4661-877f-860f9dba3a89",
   "metadata": {},
   "outputs": [
    {
     "data": {
      "text/plain": [
       "array([[0.33921961, 0.03760816, 0.9433064 , 0.33244945],\n",
       "       [0.17432718, 0.9989521 , 0.0621848 , 0.45013448],\n",
       "       [0.96573801, 0.97047226, 0.12472952, 0.1251003 ],\n",
       "       [0.70515165, 0.40033604, 0.65518354, 0.82837861],\n",
       "       [0.18251296, 0.03917974, 0.9726239 , 0.32749122],\n",
       "       [0.92061177, 0.16483116, 0.1561661 , 0.92913761],\n",
       "       [0.26656857, 0.85093136, 0.64563536, 0.70040242],\n",
       "       [0.88755773, 0.69259964, 0.6237476 , 0.35451895],\n",
       "       [0.37094842, 0.86328644, 0.25355944, 0.13674726],\n",
       "       [0.77666666, 0.51287432, 0.67041337, 0.84125736]])"
      ]
     },
     "execution_count": 95,
     "metadata": {},
     "output_type": "execute_result"
    }
   ],
   "source": [
    "# da coluna 1 até a 5, ou seja, colunas 1, 2, 3 e 4\n",
    "n[:,1:5]"
   ]
  },
  {
   "cell_type": "code",
   "execution_count": 96,
   "id": "1fee8dc2-361f-4b1c-b500-02c3af3d0148",
   "metadata": {},
   "outputs": [
    {
     "data": {
      "text/plain": [
       "array([0.33244945, 0.17590854, 0.67548183, 0.66690392, 0.53508004])"
      ]
     },
     "execution_count": 96,
     "metadata": {},
     "output_type": "execute_result"
    }
   ],
   "source": [
    "# primeira linha, da coluna 4 até a ultima (não considera a ultima)\n",
    "n[0,4:-1]"
   ]
  },
  {
   "cell_type": "code",
   "execution_count": 97,
   "id": "d5f7e59d-2c26-4ada-b7c3-64e0e442b569",
   "metadata": {},
   "outputs": [
    {
     "data": {
      "text/plain": [
       "array([0.33244945, 0.17590854, 0.67548183, 0.66690392, 0.53508004,\n",
       "       0.75393089])"
      ]
     },
     "execution_count": 97,
     "metadata": {},
     "output_type": "execute_result"
    }
   ],
   "source": [
    "# primeria linha, da coluna 4 até o fim\n",
    "n[0,4:]"
   ]
  },
  {
   "cell_type": "code",
   "execution_count": 98,
   "id": "4908eca9-2d0a-4835-9e64-57a6a57c643e",
   "metadata": {},
   "outputs": [],
   "source": [
    "an=np.log(n*5)"
   ]
  },
  {
   "cell_type": "code",
   "execution_count": 99,
   "id": "335b586a-5145-435e-921d-4525ffd66f11",
   "metadata": {},
   "outputs": [
    {
     "name": "stdout",
     "output_type": "stream",
     "text": [
      "[[-0.81877667  0.52833034 -1.67109628  1.55107379  0.50817045 -0.12835316\n",
      "   1.2171089   1.20432862  0.98409898  1.32698334]\n",
      " [ 1.51649913 -0.13738351  1.60838947 -1.1682068   0.81122902  1.19539424\n",
      "  -3.64595931 -0.08002344 -0.7472532   1.60069207]\n",
      " [ 0.99112317  1.57457522  1.57946545 -0.4721698  -0.46920158 -0.54024519\n",
      "   1.03718347 -3.20989327  0.58172755 -0.73186628]\n",
      " [ 0.33967906  1.26009552  0.69398693  1.18659805  1.42115294  1.22964794\n",
      "   0.15072087  0.34480081  0.5074581   1.02543071]\n",
      " [ 0.41347474 -0.09149617 -1.63015753  1.5816801   0.49314387  1.47531664\n",
      "   0.18585684  1.33138424  0.66212456  0.57148919]\n",
      " [ 1.23445398  1.52672105 -0.19339568 -0.24739719  1.53593949 -1.07634439\n",
      "   0.4858236  -0.27365034  0.93255582  0.39560068]\n",
      " [ 1.32214668  0.28731415  1.4480141   1.17191752  1.25333769  0.69063676\n",
      "  -0.09166153  1.37455604  1.58688814  1.02815315]\n",
      " [ 0.66079238  1.4901562   1.24213475  1.13742843  0.57244443  0.65673939\n",
      "   0.7294191   1.09178421 -0.86615144  1.34788172]\n",
      " [ 0.58564304  0.61774564  1.46242918  0.23728089 -0.38018298  1.43069396\n",
      "   0.52492093  1.58418146  0.54553526 -1.92743905]\n",
      " [ 0.00526787  1.35669388  0.94171346  1.20957713  1.43658026 -1.36152114\n",
      "   1.06320433  0.84612874  1.31899353  0.5724154 ]]\n"
     ]
    }
   ],
   "source": [
    "print(an)"
   ]
  },
  {
   "cell_type": "code",
   "execution_count": null,
   "id": "c46ec33b-0c01-453a-a978-b8612a46d569",
   "metadata": {},
   "outputs": [],
   "source": []
  }
 ],
 "metadata": {
  "kernelspec": {
   "display_name": "Python 3 (ipykernel)",
   "language": "python",
   "name": "python3"
  },
  "language_info": {
   "codemirror_mode": {
    "name": "ipython",
    "version": 3
   },
   "file_extension": ".py",
   "mimetype": "text/x-python",
   "name": "python",
   "nbconvert_exporter": "python",
   "pygments_lexer": "ipython3",
   "version": "3.11.5"
  }
 },
 "nbformat": 4,
 "nbformat_minor": 5
}
