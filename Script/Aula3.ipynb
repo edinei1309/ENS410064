{
 "cells": [
  {
   "cell_type": "markdown",
   "id": "3b3be4a9-2f75-4333-a90e-b93665e3fcef",
   "metadata": {},
   "source": [
    "## Aula 03 python"
   ]
  },
  {
   "cell_type": "markdown",
   "id": "ea822a41-60d9-467c-bed3-e1e477d34e64",
   "metadata": {},
   "source": [
    "Nesta aula veremos:\n",
    "1. Numpay array e pandas dataframe\n",
    "2. Open and export files\n",
    "3. Conditional statements\n",
    "4. Loops em Python\n",
    "5. Functions - def"
   ]
  },
  {
   "cell_type": "markdown",
   "id": "b86650fe-ee3f-4660-8056-30464c8aef04",
   "metadata": {},
   "source": [
    "### 1.1 Numpy arrays"
   ]
  },
  {
   "cell_type": "code",
   "execution_count": 1,
   "id": "326d4659-122f-4947-b554-e1a552097b1f",
   "metadata": {},
   "outputs": [],
   "source": [
    "import numpy as np"
   ]
  },
  {
   "cell_type": "code",
   "execution_count": 2,
   "id": "0cf13d69-5196-403a-90c4-6ba6acd93438",
   "metadata": {},
   "outputs": [
    {
     "name": "stdout",
     "output_type": "stream",
     "text": [
      "(1000, 2)\n",
      "2000\n",
      "[[0.61414486 0.53986082]\n",
      " [0.61771818 0.90273099]\n",
      " [0.05988052 0.3217415 ]\n",
      " [0.16244128 0.71388126]\n",
      " [0.21510232 0.64511572]\n",
      " [0.78335706 0.01409617]\n",
      " [0.23838266 0.46558357]\n",
      " [0.57672692 0.57247073]\n",
      " [0.53937474 0.61498865]]\n"
     ]
    }
   ],
   "source": [
    "## criando vetor de dados aleatório\n",
    "data = np.random.rand(1000,2)\n",
    "\n",
    "#verificando tamanho do vetor\n",
    "print(data.shape)\n",
    "print(np.size(data)) #numero de dados\n",
    "\n",
    "#amostra dos dados\n",
    "print(data[1:10])"
   ]
  },
  {
   "cell_type": "code",
   "execution_count": 3,
   "id": "df56d45b-f6f6-4228-8e2e-c03e6429cefc",
   "metadata": {},
   "outputs": [
    {
     "name": "stdout",
     "output_type": "stream",
     "text": [
      "[[383.43056475 315.5060328 ]\n",
      " [618.00340881 544.46221206]\n",
      " [621.54099644 903.7036825 ]\n",
      " [ 69.28171771 328.52408352]\n",
      " [170.81686242 716.74244277]\n",
      " [222.95130127 648.66456658]\n",
      " [785.52348672  23.95520424]\n",
      " [245.99883534 470.92773316]\n",
      " [580.95964864 576.74602582]\n",
      " [543.98099343 618.8387655 ]]\n"
     ]
    }
   ],
   "source": [
    "# usando Monte-Carlo\n",
    "dataMax=1000\n",
    "dataMin=10\n",
    "data=(dataMax-dataMin)*data+dataMin\n",
    "\n",
    "#amostra dos dados\n",
    "print(data[0:10])"
   ]
  },
  {
   "cell_type": "code",
   "execution_count": 4,
   "id": "39e95fdc-7153-428c-a93b-574559d93fc2",
   "metadata": {},
   "outputs": [
    {
     "name": "stdout",
     "output_type": "stream",
     "text": [
      "['2000-01-01T01' '2000-01-01T02' '2000-01-01T03' '2000-01-01T04'\n",
      " '2000-01-01T05' '2000-01-01T06' '2000-01-01T07' '2000-01-01T08'\n",
      " '2000-01-01T09']\n",
      "(744,)\n"
     ]
    }
   ],
   "source": [
    "#Criando vetor temporal \n",
    "\n",
    "dtime = np.arange(np.datetime64(\"2000-01-01\"), np.datetime64(\"2000-02-01\"), np.timedelta64(1,\"h\"))\n",
    "\n",
    "print(dtime[1:10])\n",
    "print(dtime.shape)"
   ]
  },
  {
   "cell_type": "markdown",
   "id": "07bd21d8-e3e7-4b82-addd-d1760e9f2f09",
   "metadata": {},
   "source": [
    "## PANDAS\n"
   ]
  },
  {
   "cell_type": "code",
   "execution_count": 5,
   "id": "3d97da91-552c-4a74-8381-5e57d42ad385",
   "metadata": {},
   "outputs": [
    {
     "name": "stdout",
     "output_type": "stream",
     "text": [
      "Empty DataFrame\n",
      "Columns: []\n",
      "Index: []\n"
     ]
    }
   ],
   "source": [
    "import pandas as pd\n",
    "\n",
    "\n",
    "\n",
    "df=pd.DataFrame()\n",
    "print(df)"
   ]
  },
  {
   "cell_type": "code",
   "execution_count": 6,
   "id": "e31b6dfc-7374-44f4-8aae-eaaba2bfbff7",
   "metadata": {},
   "outputs": [],
   "source": [
    "import matplotlib"
   ]
  },
  {
   "cell_type": "code",
   "execution_count": 7,
   "id": "6fe10213-6e37-4ba1-8309-f438afe06d60",
   "metadata": {},
   "outputs": [],
   "source": [
    "import matplotlib.pyplot"
   ]
  },
  {
   "cell_type": "code",
   "execution_count": null,
   "id": "d96701c4-8e60-457f-9ddc-5ec110aa41b2",
   "metadata": {},
   "outputs": [],
   "source": []
  }
 ],
 "metadata": {
  "kernelspec": {
   "display_name": "Python 3 (ipykernel)",
   "language": "python",
   "name": "python3"
  },
  "language_info": {
   "codemirror_mode": {
    "name": "ipython",
    "version": 3
   },
   "file_extension": ".py",
   "mimetype": "text/x-python",
   "name": "python",
   "nbconvert_exporter": "python",
   "pygments_lexer": "ipython3",
   "version": "3.11.5"
  }
 },
 "nbformat": 4,
 "nbformat_minor": 5
}
